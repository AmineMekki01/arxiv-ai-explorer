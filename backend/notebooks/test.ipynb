{
 "cells": [
  {
   "cell_type": "markdown",
   "id": "38972498",
   "metadata": {},
   "source": [
    "# Testing Arxiv Client"
   ]
  },
  {
   "cell_type": "code",
   "execution_count": null,
   "id": "4533ec3d",
   "metadata": {},
   "outputs": [
    {
     "data": {
      "text/plain": [
       "'d:\\\\Projects\\\\arxiv-ai-explorer\\\\backend\\\\notebooks'"
      ]
     },
     "execution_count": 5,
     "metadata": {},
     "output_type": "execute_result"
    }
   ],
   "source": [
    "import os\n",
    "os.getcwd()"
   ]
  },
  {
   "cell_type": "code",
   "execution_count": 7,
   "id": "a80c844e",
   "metadata": {},
   "outputs": [],
   "source": [
    "os.chdir('..')"
   ]
  },
  {
   "cell_type": "code",
   "execution_count": 9,
   "id": "3f185ce6",
   "metadata": {},
   "outputs": [
    {
     "name": "stdout",
     "output_type": "stream",
     "text": [
      "Found 50 papers\n"
     ]
    }
   ],
   "source": [
    "from src.services.arxiv.client import ArxivClient        \n",
    "\n",
    "client = ArxivClient()\n",
    "papers = await client.get_recent_papers(['cs.AI'], days_back=1, max_results=50)\n",
    "print(f\"Found {len(papers)} papers\")\n"
   ]
  }
 ],
 "metadata": {
  "kernelspec": {
   "display_name": "arxiv",
   "language": "python",
   "name": "python3"
  },
  "language_info": {
   "codemirror_mode": {
    "name": "ipython",
    "version": 3
   },
   "file_extension": ".py",
   "mimetype": "text/x-python",
   "name": "python",
   "nbconvert_exporter": "python",
   "pygments_lexer": "ipython3",
   "version": "3.11.13"
  }
 },
 "nbformat": 4,
 "nbformat_minor": 5
}
