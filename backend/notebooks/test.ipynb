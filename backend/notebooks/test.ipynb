{
 "cells": [
  {
   "cell_type": "markdown",
   "id": "38972498",
   "metadata": {},
   "source": [
    "# Testing Arxiv Client"
   ]
  },
  {
   "cell_type": "code",
   "execution_count": 3,
   "id": "c87b966b",
   "metadata": {},
   "outputs": [],
   "source": [
    "import os \n",
    "\n",
    "os.getcwd()\n",
    "\n",
    "os.chdir(\"..\")\n",
    "\n"
   ]
  },
  {
   "cell_type": "code",
   "execution_count": 8,
   "id": "3f185ce6",
   "metadata": {},
   "outputs": [
    {
     "name": "stdout",
     "output_type": "stream",
     "text": [
      "[ 2025-09-15 00:13:28,740 ] [researchmind] | Module: client |Function: _make_request | Line: 49 - INFO - Fetching arXiv data: http://export.arxiv.org/api/query?search_query=cat%3Acs.AI&start=0&max_results=50&sortBy=submittedDate&sortOrder=descending\n",
      "Found 50 papers\n"
     ]
    }
   ],
   "source": [
    "from src.services.arxiv import ArxivClient, PDFParser ,MetadataExtractor\n",
    "\n",
    "client = ArxivClient()\n",
    "papers = await client.get_recent_papers(['cs.AI'], days_back=100, max_results=50)\n",
    "print(f\"Found {len(papers)} papers\")\n",
    "\n"
   ]
  },
  {
   "cell_type": "markdown",
   "id": "72b8350e",
   "metadata": {},
   "source": [
    "## PARSE PDf\n"
   ]
  },
  {
   "cell_type": "code",
   "execution_count": 12,
   "id": "bd38fec6",
   "metadata": {},
   "outputs": [
    {
     "name": "stdout",
     "output_type": "stream",
     "text": [
      "[ 2025-09-15 00:14:59,339 ] [researchmind] | Module: parser |Function: parse_pdf | Line: 264 - INFO - Starting PDF parsing for: http://arxiv.org/pdf/2509.09679v1\n",
      "[ 2025-09-15 00:14:59,783 ] [researchmind] | Module: parser |Function: parse_pdf | Line: 293 - INFO - Successfully parsed PDF: 51079 chars, 10 sections, 6 figures, 0 tables\n"
     ]
    }
   ],
   "source": [
    "pdf_parser = PDFParser()\n",
    "pdf_content = await pdf_parser.parse_pdf(papers[0]['pdf_url'])\n"
   ]
  },
  {
   "cell_type": "markdown",
   "id": "cfaf055e",
   "metadata": {},
   "source": [
    "## EXTRACT METADATA"
   ]
  },
  {
   "cell_type": "code",
   "execution_count": 19,
   "id": "20e11acd",
   "metadata": {},
   "outputs": [
    {
     "name": "stdout",
     "output_type": "stream",
     "text": [
      "[ 2025-09-15 00:17:13,904 ] [researchmind] | Module: metadata_extractor |Function: extract_metadata | Line: 212 - INFO - Extracting metadata for paper: 2509.09679v1\n",
      "[ 2025-09-15 00:17:13,906 ] [researchmind] | Module: metadata_extractor |Function: extract_metadata | Line: 242 - INFO - Extracted metadata: 8 keywords, 1 contributions, 0 datasets\n"
     ]
    }
   ],
   "source": [
    "metadata_extractor = MetadataExtractor()\n",
    "paper_0_with_metadata = await metadata_extractor.extract_metadata(papers[0])"
   ]
  },
  {
   "cell_type": "markdown",
   "id": "b6a02fe0",
   "metadata": {},
   "source": [
    "# FRENET KEY GEN"
   ]
  },
  {
   "cell_type": "code",
   "execution_count": null,
   "id": "0c18a525",
   "metadata": {},
   "outputs": [],
   "source": [
    "from cryptography.fernet import Fernet\n",
    "\n",
    "print(Fernet.generate_key().decode())"
   ]
  }
 ],
 "metadata": {
  "kernelspec": {
   "display_name": "arxiv",
   "language": "python",
   "name": "python3"
  },
  "language_info": {
   "codemirror_mode": {
    "name": "ipython",
    "version": 3
   },
   "file_extension": ".py",
   "mimetype": "text/x-python",
   "name": "python",
   "nbconvert_exporter": "python",
   "pygments_lexer": "ipython3",
   "version": "3.11.13"
  }
 },
 "nbformat": 4,
 "nbformat_minor": 5
}
